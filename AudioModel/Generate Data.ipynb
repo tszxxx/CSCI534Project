{
 "cells": [
  {
   "cell_type": "code",
   "execution_count": 1,
   "metadata": {},
   "outputs": [],
   "source": [
    "import os\n",
    "import shutil\n",
    "import csv\n",
    "import subprocess\n",
    "from os import path\n",
    "from pydub import AudioSegment"
   ]
  },
  {
   "cell_type": "markdown",
   "metadata": {},
   "source": [
    "### Convert mp3 to wav\n",
    "Using Pydub to convert mp3 to wav (need ffmpeg as the dependencies)  \n",
    "Converting the music segments in directory \"/songs/mp3\" and saved the output into directory \"/songs/wav\""
   ]
  },
  {
   "cell_type": "code",
   "execution_count": 2,
   "metadata": {},
   "outputs": [],
   "source": [
    "mp3_dir = \"./songs/mp3\"\n",
    "wav_dir = \"./songs/wav\"\n",
    "if os.path.exists(wav_dir):\n",
    "    shutil.rmtree(wav_dir)\n",
    "os.mkdir(wav_dir)\n",
    "\n",
    "for f_name in os.listdir(mp3_dir):\n",
    "    fid, ext = os.path.splitext(f_name)\n",
    "    src_path = os.path.join(mp3_dir, f_name)\n",
    "    dst_path = os.path.join(wav_dir, fid + \".wav\")                         \n",
    "    sound = AudioSegment.from_mp3(src_path)\n",
    "    sound.export(dst_path, format=\"wav\")"
   ]
  },
  {
   "cell_type": "markdown",
   "metadata": {},
   "source": [
    "### Extracting features"
   ]
  },
  {
   "cell_type": "code",
   "execution_count": 3,
   "metadata": {},
   "outputs": [],
   "source": [
    "def write_to_csv(src_path, writer):\n",
    "    src_f = open(src_path, 'r')\n",
    "    data = src_f.readlines()\n",
    "    values = data[6380].split(',')\n",
    "    writer.writerow(values)\n",
    "    src_f.close()"
   ]
  },
  {
   "cell_type": "code",
   "execution_count": null,
   "metadata": {},
   "outputs": [],
   "source": [
    "wav_dir =\"./songs/wav\"\n",
    "opensmile_dir = \"./opensmile-2.3.0\"\n",
    "dst_dir = \"./testing data\"\n",
    "\n",
    "if os.path.exists(dst_dir):\n",
    "    shutil.rmtree(dst_dir)\n",
    "os.mkdir(dst_dir)\n",
    "\n",
    "dst_f = open(\"./testing data/static_features.csv\", 'w', newline = '')\n",
    "csv_write = csv.writer(dst_f)\n",
    "ft_name_f = open(\"./features_name.txt\", 'r')\n",
    "features_name = ft_name_f.readlines()\n",
    "csv_write.writerow(features_name)\n",
    "ft_name_f.close()\n",
    "\n",
    "SMILExtract = os.path.join(opensmile_dir, \"bin/Win32/SMILExtract_Release\")\n",
    "config_path = os.path.join(opensmile_dir, \"config/IS13_ComParE.conf\")\n",
    "\n",
    "for f_name in os.listdir(wav_dir):\n",
    "    f_path = os.path.join(wav_dir, f_name)\n",
    "    musicId = os.path.splitext(f_name)[0]\n",
    "    dst_path = os.path.join(dst_dir, musicId + \".txt\")\n",
    "    subprocess.check_call([SMILExtract, \"-C\", config_path, \"-I\", f_path, \"-O\", dst_path, \"-instname\", musicId])\n",
    "    write_to_csv(dst_path, csv_write)\n",
    "\n",
    "dst_f.close()"
   ]
  }
 ],
 "metadata": {
  "kernelspec": {
   "display_name": "Python 3",
   "language": "python",
   "name": "python3"
  }
 },
 "nbformat": 4,
 "nbformat_minor": 2
}
