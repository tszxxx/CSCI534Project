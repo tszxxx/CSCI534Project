{
 "cells": [
  {
   "cell_type": "code",
   "execution_count": 1,
   "metadata": {},
   "outputs": [],
   "source": [
    "import pandas as pd\n",
    "from math import sqrt\n",
    "from scipy.stats import pearsonr\n",
    "from sklearn.preprocessing import scale\n",
    "from sklearn.linear_model import Lasso, ElasticNet, Ridge\n",
    "from sklearn.svm import SVR\n",
    "from sklearn.neighbors import KNeighborsRegressor\n",
    "from sklearn.tree import DecisionTreeRegressor\n",
    "from sklearn.ensemble import RandomForestRegressor, AdaBoostRegressor\n",
    "from sklearn.neural_network import MLPRegressor\n",
    "from sklearn.metrics import mean_squared_error, make_scorer\n",
    "from sklearn.model_selection import cross_validate, KFold"
   ]
  },
  {
   "cell_type": "markdown",
   "metadata": {},
   "source": [
    "### Load the data\n",
    "794 songs × 6374 features  \n",
    "767 songs with annotation  \n",
    "Select 260 core features to reduce the computing complexity   \n",
    "Core features: the average and the standard deviation of the 65 LLDs as well as their first-order derivatives"
   ]
  },
  {
   "cell_type": "code",
   "execution_count": 2,
   "metadata": {},
   "outputs": [],
   "source": [
    "feature = pd.read_csv(\"./PMEmo/PMEmo2019/features/static_features.csv\")\n",
    "annotation = pd.read_csv(\"./PMEmo/PMEmo2019/annotations/static_annotations_std.csv\")"
   ]
  },
  {
   "cell_type": "code",
   "execution_count": 3,
   "metadata": {},
   "outputs": [],
   "source": [
    "data = pd.merge(feature, annotation)\n",
    "col = [0] * 236\n",
    "for i in range(118):\n",
    "    col[i*2] = 16 + i*31\n",
    "    col[i*2+1] = 19 + i*31\n",
    "X = scale(data.iloc[:,col].values)\n",
    "y_a = data.loc[:, 'Arousal(mean)'].values\n",
    "y_v = data.loc[:, 'Valence(mean)'].values"
   ]
  },
  {
   "cell_type": "markdown",
   "metadata": {},
   "source": [
    "### Setup Metric and Regression Model\n",
    "Metric: (1) Root Mean Square Error(RMSE); (2) Pearson Correlation Coefficient(PCC)  \n",
    "Regressor: (1) Lasso (2) Ridge (3) Elastic Net (4) SVR (kernel = rbf/linear/poly)"
   ]
  },
  {
   "cell_type": "code",
   "execution_count": 4,
   "metadata": {},
   "outputs": [],
   "source": [
    "def rmse(y, y_pred):\n",
    "    return sqrt(mean_squared_error(y, y_pred))\n",
    "\n",
    "def pcc(y, y_pred):\n",
    "    return pearsonr(y, y_pred)[0]\n",
    "\n",
    "Regressors = {\n",
    "    'Lasso': Lasso(),\n",
    "    'Ridge': Ridge(),\n",
    "    'ElasticNet': ElasticNet(),\n",
    "    'SVRrbf': SVR(kernel='rbf', gamma='scale'),\n",
    "    'SVRlinear': SVR(kernel='linear', gamma='scale'),\n",
    "    'SVRpoly': SVR(kernel='poly', gamma='scale'),\n",
    "    'DT': DecisionTreeRegressor(max_depth=5),\n",
    "    'RF': RandomForestRegressor(max_depth=5, n_estimators=10, max_features=1)\n",
    "}"
   ]
  },
  {
   "cell_type": "markdown",
   "metadata": {},
   "source": [
    "### Recognition and Evaluation"
   ]
  },
  {
   "cell_type": "code",
   "execution_count": 5,
   "metadata": {},
   "outputs": [],
   "source": [
    "def cross_val_regression(regressors, features, labels):\n",
    "    columns = list(Regressors.keys())\n",
    "    res = pd.DataFrame(columns=columns)\n",
    "    scorer = {'rmse': make_scorer(rmse)}\n",
    "    \n",
    "    for name, reg in Regressors.items():\n",
    "        reg_score = cross_validate(reg, \n",
    "                                   features, \n",
    "                                   labels, \n",
    "                                   scoring = scorer,\n",
    "                                   cv = 10, \n",
    "                                   return_train_score = False,\n",
    "                                   error_score = 'raise') \n",
    "        res.loc['RMSE', name] = round(reg_score['test_rmse'].mean(), 3)\n",
    "        #res.loc['PCC', name] = reg_score['test_pcc'].mean()\n",
    "    return res"
   ]
  },
  {
   "cell_type": "code",
   "execution_count": 7,
   "metadata": {},
   "outputs": [
    {
     "data": {
      "text/html": [
       "<div>\n",
       "<style scoped>\n",
       "    .dataframe tbody tr th:only-of-type {\n",
       "        vertical-align: middle;\n",
       "    }\n",
       "\n",
       "    .dataframe tbody tr th {\n",
       "        vertical-align: top;\n",
       "    }\n",
       "\n",
       "    .dataframe thead th {\n",
       "        text-align: right;\n",
       "    }\n",
       "</style>\n",
       "<table border=\"1\" class=\"dataframe\">\n",
       "  <thead>\n",
       "    <tr style=\"text-align: right;\">\n",
       "      <th></th>\n",
       "      <th>Lasso</th>\n",
       "      <th>Ridge</th>\n",
       "      <th>ElasticNet</th>\n",
       "      <th>SVRrbf</th>\n",
       "      <th>SVRlinear</th>\n",
       "    </tr>\n",
       "  </thead>\n",
       "  <tbody>\n",
       "    <tr>\n",
       "      <th>RMSE</th>\n",
       "      <td>0.184</td>\n",
       "      <td>0.216</td>\n",
       "      <td>0.184</td>\n",
       "      <td>0.146</td>\n",
       "      <td>0.226</td>\n",
       "    </tr>\n",
       "  </tbody>\n",
       "</table>\n",
       "</div>"
      ],
      "text/plain": [
       "      Lasso  Ridge ElasticNet SVRrbf SVRlinear\n",
       "RMSE  0.184  0.216      0.184  0.146     0.226"
      ]
     },
     "execution_count": 7,
     "metadata": {},
     "output_type": "execute_result"
    }
   ],
   "source": [
    "scores_Arousal = cross_val_regression(Regressors, X, y_a)\n",
    "scores_Arousal"
   ]
  },
  {
   "cell_type": "code",
   "execution_count": 9,
   "metadata": {},
   "outputs": [
    {
     "data": {
      "text/html": [
       "<div>\n",
       "<style scoped>\n",
       "    .dataframe tbody tr th:only-of-type {\n",
       "        vertical-align: middle;\n",
       "    }\n",
       "\n",
       "    .dataframe tbody tr th {\n",
       "        vertical-align: top;\n",
       "    }\n",
       "\n",
       "    .dataframe thead th {\n",
       "        text-align: right;\n",
       "    }\n",
       "</style>\n",
       "<table border=\"1\" class=\"dataframe\">\n",
       "  <thead>\n",
       "    <tr style=\"text-align: right;\">\n",
       "      <th></th>\n",
       "      <th>Lasso</th>\n",
       "      <th>Ridge</th>\n",
       "      <th>ElasticNet</th>\n",
       "      <th>SVRrbf</th>\n",
       "      <th>SVRlinear</th>\n",
       "    </tr>\n",
       "  </thead>\n",
       "  <tbody>\n",
       "    <tr>\n",
       "      <th>RMSE</th>\n",
       "      <td>0.162</td>\n",
       "      <td>0.196</td>\n",
       "      <td>0.162</td>\n",
       "      <td>0.141</td>\n",
       "      <td>0.209</td>\n",
       "    </tr>\n",
       "  </tbody>\n",
       "</table>\n",
       "</div>"
      ],
      "text/plain": [
       "      Lasso  Ridge ElasticNet SVRrbf SVRlinear\n",
       "RMSE  0.162  0.196      0.162  0.141     0.209"
      ]
     },
     "execution_count": 9,
     "metadata": {},
     "output_type": "execute_result"
    }
   ],
   "source": [
    "scores_Valence = cross_val_regression(Regressors, X, y_v)\n",
    "scores_Valence"
   ]
  }
 ],
 "metadata": {
  "kernelspec": {
   "display_name": "Python 3",
   "language": "python",
   "name": "python3"
  },
  "language_info": {
   "codemirror_mode": {
    "name": "ipython",
    "version": 3
   },
   "file_extension": ".py",
   "mimetype": "text/x-python",
   "name": "python",
   "nbconvert_exporter": "python",
   "pygments_lexer": "ipython3",
   "version": "3.6.3"
  }
 },
 "nbformat": 4,
 "nbformat_minor": 2
}
