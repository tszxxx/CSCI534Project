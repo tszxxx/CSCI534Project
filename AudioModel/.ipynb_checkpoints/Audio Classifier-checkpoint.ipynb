{
 "cells": [
  {
   "cell_type": "code",
   "execution_count": 1,
   "metadata": {},
   "outputs": [],
   "source": [
    "import pandas as pd\n",
    "from math import sqrt\n",
    "from scipy.stats import pearsonr\n",
    "from sklearn.preprocessing import scale\n",
    "from sklearn.linear_model import Lasso, ElasticNet, Ridge\n",
    "from sklearn.svm import SVR\n",
    "from sklearn.neighbors import KNeighborsRegressor\n",
    "from sklearn.tree import DecisionTreeRegressor\n",
    "from sklearn.ensemble import RandomForestRegressor, AdaBoostRegressor\n",
    "from sklearn.neural_network import MLPRegressor\n",
    "from sklearn.metrics import mean_squared_error, make_scorer\n",
    "from sklearn.model_selection import cross_validate, KFold"
   ]
  },
  {
   "cell_type": "markdown",
   "metadata": {},
   "source": [
    "## Part I: Training a classifier based on the PMEmo dataset\n",
    "### Loading the training data\n",
    "The raw dataset consists of 794 songs × 6374 features, including 767 labeled songs.  \n",
    "Select 260 core features  \n",
    "Core features: the average and the standard deviation of the 65 LLDs as well as their first-order derivatives"
   ]
  },
  {
   "cell_type": "code",
   "execution_count": 2,
   "metadata": {},
   "outputs": [],
   "source": [
    "def select_core_features(data):\n",
    "    col = [0] * 260\n",
    "    for i in range(118):\n",
    "        col[i*2] = 16 + i*31\n",
    "        col[i*2+1] = 19 + i*31\n",
    "        \n",
    "    for j in range(12):\n",
    "        col[j*2 + 236] = 3659 + j*39\n",
    "        col[j*2 + 237] = 3683 + j*39\n",
    "        \n",
    "    return scale(data.iloc[:, col].values)"
   ]
  },
  {
   "cell_type": "code",
   "execution_count": 3,
   "metadata": {},
   "outputs": [],
   "source": [
    "feature = pd.read_csv(\"./training data/static_features.csv\")\n",
    "annotation = pd.read_csv(\"./training data/static_annotations.csv\")\n",
    "data = pd.merge(feature, annotation)\n",
    "X_training, y_a, y_v = select_core_features(data), data.loc[:, 'Arousal(mean)'].values, data.loc[:, 'Valence(mean)'].values"
   ]
  },
  {
   "cell_type": "markdown",
   "metadata": {},
   "source": [
    "### Setting up Metric & Regression Classifiers\n",
    "Metric: (1) Root Mean Square Error(RMSE); (2) Pearson Correlation Coefficient(PCC)  \n",
    "Regressor: Lasso, Ridge, Elastic Net, SVR(kernel = rbf/linear/poly)"
   ]
  },
  {
   "cell_type": "code",
   "execution_count": 4,
   "metadata": {},
   "outputs": [],
   "source": [
    "def rmse(y, y_pred):\n",
    "    return sqrt(mean_squared_error(y, y_pred))\n",
    "\n",
    "def pcc(y, y_pred):\n",
    "    return pearsonr(y, y_pred)[0]\n",
    "\n",
    "Regressors = {\n",
    "    'Lasso': Lasso(),\n",
    "    'Ridge': Ridge(),\n",
    "    'ElasticNet': ElasticNet(),\n",
    "    'SVRrbf': SVR(kernel='rbf', gamma='scale'),\n",
    "    #'SVRlinear': SVR(kernel='linear', gamma='scale'),\n",
    "    #'SVRpoly': SVR(kernel='poly', gamma='scale'),\n",
    "    'DT': DecisionTreeRegressor(max_depth=5),\n",
    "    'RF': RandomForestRegressor(max_depth=5, n_estimators=10, max_features=1)\n",
    "}"
   ]
  },
  {
   "cell_type": "markdown",
   "metadata": {},
   "source": [
    "### Training Classifiers & Evaluation"
   ]
  },
  {
   "cell_type": "code",
   "execution_count": 5,
   "metadata": {},
   "outputs": [],
   "source": [
    "def cross_val_regression(regressors, features, labels):\n",
    "    res = pd.DataFrame(columns = list(Regressors.keys()))\n",
    "    scorer = {'rmse': make_scorer(rmse)}\n",
    "    \n",
    "    for name, reg in Regressors.items():\n",
    "        reg_score = cross_validate(reg, \n",
    "                                   features, \n",
    "                                   labels, \n",
    "                                   scoring = scorer,\n",
    "                                   cv = 10, \n",
    "                                   return_train_score = False,\n",
    "                                   error_score = 'raise') \n",
    "        res.loc['RMSE', name] = round(reg_score['test_rmse'].mean(), 3)\n",
    "        #res.loc['PCC', name] = reg_score['test_pcc'].mean()\n",
    "    return res"
   ]
  },
  {
   "cell_type": "code",
   "execution_count": 6,
   "metadata": {},
   "outputs": [
    {
     "data": {
      "text/html": [
       "<div>\n",
       "<style scoped>\n",
       "    .dataframe tbody tr th:only-of-type {\n",
       "        vertical-align: middle;\n",
       "    }\n",
       "\n",
       "    .dataframe tbody tr th {\n",
       "        vertical-align: top;\n",
       "    }\n",
       "\n",
       "    .dataframe thead th {\n",
       "        text-align: right;\n",
       "    }\n",
       "</style>\n",
       "<table border=\"1\" class=\"dataframe\">\n",
       "  <thead>\n",
       "    <tr style=\"text-align: right;\">\n",
       "      <th></th>\n",
       "      <th>Lasso</th>\n",
       "      <th>Ridge</th>\n",
       "      <th>ElasticNet</th>\n",
       "      <th>SVRrbf</th>\n",
       "      <th>DT</th>\n",
       "      <th>RF</th>\n",
       "    </tr>\n",
       "  </thead>\n",
       "  <tbody>\n",
       "    <tr>\n",
       "      <th>RMSE</th>\n",
       "      <td>0.184</td>\n",
       "      <td>0.185</td>\n",
       "      <td>0.184</td>\n",
       "      <td>0.134</td>\n",
       "      <td>0.163</td>\n",
       "      <td>0.169</td>\n",
       "    </tr>\n",
       "  </tbody>\n",
       "</table>\n",
       "</div>"
      ],
      "text/plain": [
       "      Lasso  Ridge ElasticNet SVRrbf     DT     RF\n",
       "RMSE  0.184  0.185      0.184  0.134  0.163  0.169"
      ]
     },
     "execution_count": 6,
     "metadata": {},
     "output_type": "execute_result"
    }
   ],
   "source": [
    "scores_Arousal = cross_val_regression(Regressors, X_training, y_a)\n",
    "scores_Arousal"
   ]
  },
  {
   "cell_type": "code",
   "execution_count": 7,
   "metadata": {},
   "outputs": [
    {
     "data": {
      "text/html": [
       "<div>\n",
       "<style scoped>\n",
       "    .dataframe tbody tr th:only-of-type {\n",
       "        vertical-align: middle;\n",
       "    }\n",
       "\n",
       "    .dataframe tbody tr th {\n",
       "        vertical-align: top;\n",
       "    }\n",
       "\n",
       "    .dataframe thead th {\n",
       "        text-align: right;\n",
       "    }\n",
       "</style>\n",
       "<table border=\"1\" class=\"dataframe\">\n",
       "  <thead>\n",
       "    <tr style=\"text-align: right;\">\n",
       "      <th></th>\n",
       "      <th>Lasso</th>\n",
       "      <th>Ridge</th>\n",
       "      <th>ElasticNet</th>\n",
       "      <th>SVRrbf</th>\n",
       "      <th>DT</th>\n",
       "      <th>RF</th>\n",
       "    </tr>\n",
       "  </thead>\n",
       "  <tbody>\n",
       "    <tr>\n",
       "      <th>RMSE</th>\n",
       "      <td>0.162</td>\n",
       "      <td>0.183</td>\n",
       "      <td>0.162</td>\n",
       "      <td>0.135</td>\n",
       "      <td>0.16</td>\n",
       "      <td>0.149</td>\n",
       "    </tr>\n",
       "  </tbody>\n",
       "</table>\n",
       "</div>"
      ],
      "text/plain": [
       "      Lasso  Ridge ElasticNet SVRrbf    DT     RF\n",
       "RMSE  0.162  0.183      0.162  0.135  0.16  0.149"
      ]
     },
     "execution_count": 7,
     "metadata": {},
     "output_type": "execute_result"
    }
   ],
   "source": [
    "scores_Valence = cross_val_regression(Regressors, X_training, y_v)\n",
    "scores_Valence"
   ]
  },
  {
   "cell_type": "markdown",
   "metadata": {},
   "source": [
    "## Part II: Recognize emotions from new music segments\n",
    "### Loading the testing data"
   ]
  },
  {
   "cell_type": "code",
   "execution_count": 8,
   "metadata": {},
   "outputs": [],
   "source": [
    "data = pd.read_csv(\"./testing data/static_features.csv\")\n",
    "X_testing = select_core_features(data)"
   ]
  },
  {
   "cell_type": "markdown",
   "metadata": {},
   "source": [
    "### Predicting arousal and valence of new input"
   ]
  },
  {
   "cell_type": "code",
   "execution_count": 9,
   "metadata": {},
   "outputs": [],
   "source": [
    "res_a = pd.DataFrame()\n",
    "res_v = pd.DataFrame()\n",
    "res_a['musicId'] = res_v['musicId'] = data.iloc[:, 0]\n",
    "\n",
    "#Predict arousal\n",
    "for name, reg in Regressors.items():\n",
    "    reg.fit(X_training, y_a)\n",
    "    res_a[name] = reg.predict(X_testing)\n",
    "    \n",
    "#Predict Valence\n",
    "for name, reg in Regressors.items():\n",
    "    reg.fit(X_training, y_v)\n",
    "    res_v[name] = reg.predict(X_testing)"
   ]
  },
  {
   "cell_type": "code",
   "execution_count": 10,
   "metadata": {},
   "outputs": [
    {
     "data": {
      "text/html": [
       "<div>\n",
       "<style scoped>\n",
       "    .dataframe tbody tr th:only-of-type {\n",
       "        vertical-align: middle;\n",
       "    }\n",
       "\n",
       "    .dataframe tbody tr th {\n",
       "        vertical-align: top;\n",
       "    }\n",
       "\n",
       "    .dataframe thead th {\n",
       "        text-align: right;\n",
       "    }\n",
       "</style>\n",
       "<table border=\"1\" class=\"dataframe\">\n",
       "  <thead>\n",
       "    <tr style=\"text-align: right;\">\n",
       "      <th></th>\n",
       "      <th>musicId</th>\n",
       "      <th>Lasso</th>\n",
       "      <th>Ridge</th>\n",
       "      <th>ElasticNet</th>\n",
       "      <th>SVRrbf</th>\n",
       "      <th>DT</th>\n",
       "      <th>RF</th>\n",
       "    </tr>\n",
       "  </thead>\n",
       "  <tbody>\n",
       "    <tr>\n",
       "      <th>0</th>\n",
       "      <td>'2'</td>\n",
       "      <td>0.622355</td>\n",
       "      <td>0.742548</td>\n",
       "      <td>0.622355</td>\n",
       "      <td>0.676671</td>\n",
       "      <td>0.774545</td>\n",
       "      <td>0.562888</td>\n",
       "    </tr>\n",
       "    <tr>\n",
       "      <th>1</th>\n",
       "      <td>'3'</td>\n",
       "      <td>0.622355</td>\n",
       "      <td>0.502163</td>\n",
       "      <td>0.622355</td>\n",
       "      <td>0.548987</td>\n",
       "      <td>0.787500</td>\n",
       "      <td>0.571326</td>\n",
       "    </tr>\n",
       "  </tbody>\n",
       "</table>\n",
       "</div>"
      ],
      "text/plain": [
       "  musicId     Lasso     Ridge  ElasticNet    SVRrbf        DT        RF\n",
       "0     '2'  0.622355  0.742548    0.622355  0.676671  0.774545  0.562888\n",
       "1     '3'  0.622355  0.502163    0.622355  0.548987  0.787500  0.571326"
      ]
     },
     "execution_count": 10,
     "metadata": {},
     "output_type": "execute_result"
    }
   ],
   "source": [
    "res_a"
   ]
  },
  {
   "cell_type": "code",
   "execution_count": 11,
   "metadata": {},
   "outputs": [
    {
     "data": {
      "text/html": [
       "<div>\n",
       "<style scoped>\n",
       "    .dataframe tbody tr th:only-of-type {\n",
       "        vertical-align: middle;\n",
       "    }\n",
       "\n",
       "    .dataframe tbody tr th {\n",
       "        vertical-align: top;\n",
       "    }\n",
       "\n",
       "    .dataframe thead th {\n",
       "        text-align: right;\n",
       "    }\n",
       "</style>\n",
       "<table border=\"1\" class=\"dataframe\">\n",
       "  <thead>\n",
       "    <tr style=\"text-align: right;\">\n",
       "      <th></th>\n",
       "      <th>musicId</th>\n",
       "      <th>Lasso</th>\n",
       "      <th>Ridge</th>\n",
       "      <th>ElasticNet</th>\n",
       "      <th>SVRrbf</th>\n",
       "      <th>DT</th>\n",
       "      <th>RF</th>\n",
       "    </tr>\n",
       "  </thead>\n",
       "  <tbody>\n",
       "    <tr>\n",
       "      <th>0</th>\n",
       "      <td>'2'</td>\n",
       "      <td>0.596581</td>\n",
       "      <td>0.712793</td>\n",
       "      <td>0.596581</td>\n",
       "      <td>0.669296</td>\n",
       "      <td>0.673437</td>\n",
       "      <td>0.577771</td>\n",
       "    </tr>\n",
       "    <tr>\n",
       "      <th>1</th>\n",
       "      <td>'3'</td>\n",
       "      <td>0.596581</td>\n",
       "      <td>0.480368</td>\n",
       "      <td>0.596581</td>\n",
       "      <td>0.492799</td>\n",
       "      <td>0.519744</td>\n",
       "      <td>0.559609</td>\n",
       "    </tr>\n",
       "  </tbody>\n",
       "</table>\n",
       "</div>"
      ],
      "text/plain": [
       "  musicId     Lasso     Ridge  ElasticNet    SVRrbf        DT        RF\n",
       "0     '2'  0.596581  0.712793    0.596581  0.669296  0.673437  0.577771\n",
       "1     '3'  0.596581  0.480368    0.596581  0.492799  0.519744  0.559609"
      ]
     },
     "execution_count": 11,
     "metadata": {},
     "output_type": "execute_result"
    }
   ],
   "source": [
    "res_v"
   ]
  }
 ],
 "metadata": {
  "kernelspec": {
   "display_name": "Python 3",
   "language": "python",
   "name": "python3"
  },
  "language_info": {
   "codemirror_mode": {
    "name": "ipython",
    "version": 3
   },
   "file_extension": ".py",
   "mimetype": "text/x-python",
   "name": "python",
   "nbconvert_exporter": "python",
   "pygments_lexer": "ipython3",
   "version": "3.6.3"
  }
 },
 "nbformat": 4,
 "nbformat_minor": 2
}
