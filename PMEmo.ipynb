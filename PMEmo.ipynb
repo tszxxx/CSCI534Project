{
 "cells": [
  {
   "cell_type": "code",
   "execution_count": 88,
   "metadata": {},
   "outputs": [],
   "source": [
    "import pandas as pd\n",
    "from math import sqrt\n",
    "from sklearn.preprocessing import scale\n",
    "from sklearn.linear_model import Lasso, ElasticNet, Ridge\n",
    "from sklearn.svm import SVR\n",
    "from sklearn.neighbors import KNeighborsRegressor\n",
    "from sklearn.tree import DecisionTreeRegressor\n",
    "from sklearn.ensemble import RandomForestRegressor, AdaBoostRegressor\n",
    "from sklearn.neural_network import MLPRegressor\n",
    "from sklearn.metrics import mean_squared_error, make_scorer\n",
    "from scipy.stats import pearsonr\n",
    "from sklearn.preprocessing import StandardScaler\n",
    "from sklearn.model_selection import cross_validate, KFold"
   ]
  },
  {
   "cell_type": "markdown",
   "metadata": {},
   "source": [
    "### Load the data\n",
    "794 songs × 6374 features\n",
    "table 2, table3 [1], [2]\n",
    "767 songs with annotation\n",
    "Select 260 core features to reduce the computing complexity \n",
    "Core features: the average and the standard deviation of the 65 LLDs as well as their first-order derivatives"
   ]
  },
  {
   "cell_type": "code",
   "execution_count": 89,
   "metadata": {},
   "outputs": [],
   "source": [
    "feature = pd.read_csv(\"./PMEmo/PMEmo2019/features/static_features.csv\")\n",
    "annotation = pd.read_csv(\"./PMEmo/PMEmo2019/annotations/static_annotations_std.csv\")"
   ]
  },
  {
   "cell_type": "code",
   "execution_count": 90,
   "metadata": {},
   "outputs": [],
   "source": [
    "data = pd.merge(feature, annotation)\n",
    "col = [0] * 260\n",
    "for i in range(130):\n",
    "    col[i*2] = 16 + i*31\n",
    "    col[i*2+1] = 19 + i*31\n",
    "X  = scale(data.iloc[:,col].values)\n",
    "y_a = data.iloc[:, 6373].values\n",
    "y_v = data.iloc[:, 6374].values"
   ]
  },
  {
   "cell_type": "markdown",
   "metadata": {},
   "source": [
    "### Setup Metric and Regression Model"
   ]
  },
  {
   "cell_type": "code",
   "execution_count": 91,
   "metadata": {},
   "outputs": [],
   "source": [
    "def rmse(y, y_pred):\n",
    "    return sqrt(mean_squared_error(y, y_pred))"
   ]
  },
  {
   "cell_type": "code",
   "execution_count": 92,
   "metadata": {},
   "outputs": [],
   "source": [
    "Regressors = {\n",
    "    'Lasso': Lasso(alpha=0.01, tol=0.001),\n",
    "    'ElasticNet': ElasticNet(alpha=0.05),\n",
    "    'Ridge': Ridge(alpha=0.05, tol=0.001),\n",
    "    'kNN': KNeighborsRegressor(p=1),\n",
    "    'SVRrbf': SVR(kernel='rbf', tol=0.0001, C=0.5),\n",
    "    'SVRpoly': SVR(kernel='poly', C=1, degree=2),\n",
    "    'SVRlinear': SVR(kernel='linear', C=1),\n",
    "    'DT': DecisionTreeRegressor(max_depth=10),\n",
    "    'RF': RandomForestRegressor(max_depth=10, n_estimators=10, max_features=1)\n",
    "}"
   ]
  },
  {
   "cell_type": "markdown",
   "metadata": {},
   "source": [
    "### Recognition and Evaluation"
   ]
  },
  {
   "cell_type": "code",
   "execution_count": 97,
   "metadata": {},
   "outputs": [],
   "source": [
    "def cross_val_regression(regressors, features, labels):\n",
    "    columns = list(Regressors.keys())\n",
    "    res = pd.DataFrame(columns=columns, index=['RMSE'])\n",
    "\n",
    "    for name, reg in Regressors.items():\n",
    "        #scorer = ('neg_mean_squared_error')\n",
    "        reg_score = cross_validate(reg, \n",
    "                                   features, labels, \n",
    "                                   scoring={'rmse': make_scorer(rmse)}, \n",
    "                                   cv=10, \n",
    "                                   return_train_score=False,\n",
    "                                   error_score='raise') \n",
    "        res.loc['RMSE', name] = reg_score['test_rmse'].mean()\n",
    "\n",
    "    res['Mean'] = res.mean(axis=1)\n",
    "    res['std'] = res.std(axis=1)\n",
    "    return res"
   ]
  },
  {
   "cell_type": "code",
   "execution_count": null,
   "metadata": {},
   "outputs": [],
   "source": [
    "#scores_Arousal = cross_val_regression(regressors, X, y_a)"
   ]
  },
  {
   "cell_type": "code",
   "execution_count": 99,
   "metadata": {},
   "outputs": [
    {
     "name": "stdout",
     "output_type": "stream",
     "text": [
      "          Lasso ElasticNet     Ridge        kNN     SVRrbf    SVRpoly  \\\n",
      "RMSE  0.0473094  0.0473094  0.065486  0.0495347  0.0510637  0.0514068   \n",
      "\n",
      "      SVRlinear         DT         RF      Mean       std  \n",
      "RMSE  0.0507135  0.0519143  0.0462097  0.051216  0.005404  \n"
     ]
    }
   ],
   "source": [
    "scores_Valence = cross_val_regression(regressors, X, y_v)\n",
    "print(scores_Valence)"
   ]
  }
 ],
 "metadata": {
  "kernelspec": {
   "display_name": "Python 3",
   "language": "python",
   "name": "python3"
  },
  "language_info": {
   "codemirror_mode": {
    "name": "ipython",
    "version": 3
   },
   "file_extension": ".py",
   "mimetype": "text/x-python",
   "name": "python",
   "nbconvert_exporter": "python",
   "pygments_lexer": "ipython3",
   "version": "3.6.3"
  }
 },
 "nbformat": 4,
 "nbformat_minor": 2
}
