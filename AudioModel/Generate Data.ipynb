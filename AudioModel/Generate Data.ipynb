{
 "cells": [
  {
   "cell_type": "code",
   "execution_count": 1,
   "metadata": {},
   "outputs": [],
   "source": [
    "import os\n",
    "import shutil\n",
    "import csv\n",
    "import subprocess\n",
    "from os import path\n",
    "from pydub import AudioSegment"
   ]
  },
  {
   "cell_type": "markdown",
   "metadata": {},
   "source": [
    "### Convert mp3 to wav\n",
    "Using Pydub to convert mp3 to wav (need ffmpeg as the dependencies)  \n",
    "Converting the music segments in directory \"/songs/mp3\" and saved the output into directory \"/songs/wav\""
   ]
  },
  {
   "cell_type": "code",
   "execution_count": 2,
   "metadata": {},
   "outputs": [],
   "source": [
    "mp3_dir = \"./songs/mp3\"\n",
    "wav_dir = \"./songs/wav\"\n",
    "if os.path.exists(wav_dir):\n",
    "    shutil.rmtree(wav_dir)\n",
    "os.mkdir(wav_dir)\n",
    "\n",
    "for f_name in os.listdir(mp3_dir):\n",
    "    fid, ext = os.path.splitext(f_name)\n",
    "    src = os.path.join(mp3_dir, f_name)\n",
    "    dst = os.path.join(wav_dir, fid+\".wav\")                         \n",
    "    sound = AudioSegment.from_mp3(src)\n",
    "    sound.export(dst, format=\"wav\")"
   ]
  },
  {
   "cell_type": "markdown",
   "metadata": {},
   "source": [
    "### Extracting features"
   ]
  },
  {
   "cell_type": "code",
   "execution_count": 3,
   "metadata": {},
   "outputs": [],
   "source": [
    "wav_dir =\"./songs/wav\"\n",
    "opensmile_dir = \"./opensmile-2.3.0\"\n",
    "dst_dir = \"./testing data\"\n",
    "if os.path.exists(dst_dir):\n",
    "    shutil.rmtree(dst_dir)\n",
    "os.mkdir(dst_dir)\n",
    "\n",
    "SMILExtract = os.path.join(opensmile_dir, \"bin/Win32/SMILExtract_Release\")\n",
    "config_file = os.path.join(opensmile_dir, \"config/IS13_ComParE.conf\")\n",
    "dst_file = os.path.join(dst_dir, \"static_features.txt\")\n",
    "\n",
    "for f_name in os.listdir(wav_dir):\n",
    "    f_path = os.path.join(wav_dir, f_name)\n",
    "    subprocess.check_call([SMILExtract, \"-C\", config_file, \"-I\", f_path, \"-O\", dst_file, \"-instname\", f_name])"
   ]
  }
 ],
 "metadata": {
  "kernelspec": {
   "display_name": "Python 3",
   "language": "python",
   "name": "python3"
  },
  "language_info": {
   "codemirror_mode": {
    "name": "ipython",
    "version": 3
   },
   "file_extension": ".py",
   "mimetype": "text/x-python",
   "name": "python",
   "nbconvert_exporter": "python",
   "pygments_lexer": "ipython3",
   "version": "3.6.3"
  }
 },
 "nbformat": 4,
 "nbformat_minor": 2
}
